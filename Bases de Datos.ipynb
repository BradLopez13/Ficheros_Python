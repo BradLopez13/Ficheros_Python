{
 "cells": [
  {
   "cell_type": "markdown",
   "id": "a1c9ce47",
   "metadata": {},
   "source": [
    "# BASES DE DATOS"
   ]
  },
  {
   "cell_type": "code",
   "execution_count": 1,
   "id": "201090f3",
   "metadata": {},
   "outputs": [],
   "source": [
    "import sqlite3"
   ]
  },
  {
   "cell_type": "code",
   "execution_count": 2,
   "id": "f5c682f6",
   "metadata": {},
   "outputs": [],
   "source": [
    "conexion = sqlite3.connect('ejemplo.db')"
   ]
  },
  {
   "cell_type": "code",
   "execution_count": 3,
   "id": "8ca9d0a2",
   "metadata": {},
   "outputs": [],
   "source": [
    "conexion.close()"
   ]
  },
  {
   "cell_type": "markdown",
   "id": "12602aa7",
   "metadata": {},
   "source": [
    "## CREAR TABLA"
   ]
  },
  {
   "cell_type": "code",
   "execution_count": 4,
   "id": "392c86a2",
   "metadata": {},
   "outputs": [],
   "source": [
    "conexion = sqlite3.connect('ejemplo.db')"
   ]
  },
  {
   "cell_type": "code",
   "execution_count": 5,
   "id": "fdfd288f",
   "metadata": {},
   "outputs": [],
   "source": [
    "cursor = conexion.cursor()"
   ]
  },
  {
   "cell_type": "code",
   "execution_count": 6,
   "id": "b475f64d",
   "metadata": {},
   "outputs": [
    {
     "data": {
      "text/plain": [
       "<sqlite3.Cursor at 0x21534d69d50>"
      ]
     },
     "execution_count": 6,
     "metadata": {},
     "output_type": "execute_result"
    }
   ],
   "source": [
    "cursor.execute('create table alumnos (nombre varchar(50), edad integer, email varchar(100))')"
   ]
  },
  {
   "cell_type": "code",
   "execution_count": 7,
   "id": "fa081228",
   "metadata": {},
   "outputs": [],
   "source": [
    "conexion.commit()"
   ]
  },
  {
   "cell_type": "code",
   "execution_count": 8,
   "id": "3f35935b",
   "metadata": {},
   "outputs": [],
   "source": [
    "conexion.close()"
   ]
  },
  {
   "cell_type": "markdown",
   "id": "9e073ecb",
   "metadata": {},
   "source": [
    "## INSERTAR UNO Y VARIOS"
   ]
  },
  {
   "cell_type": "code",
   "execution_count": 14,
   "id": "bd723bb4",
   "metadata": {},
   "outputs": [],
   "source": [
    "conexion = sqlite3.connect('ejemplo.db')\n",
    "cursor = conexion.cursor()\n",
    "cursor.execute('insert into alumnos values (\"Angel\",20,\"odiocomunista@gmail.com\")')\n",
    "conexion.commit()\n",
    "conexion.close()"
   ]
  },
  {
   "cell_type": "code",
   "execution_count": 17,
   "id": "6a28abc2",
   "metadata": {},
   "outputs": [],
   "source": [
    "conexion = sqlite3.connect('ejemplo.db')\n",
    "cursor = conexion.cursor()\n",
    "alum = [('Isaac',10,'isa@gmail.com'),('Juan',30,'Juan@gmail.com'),('Angela',19,'angela@gmail.com')]\n",
    "cursor.executemany(\"insert into alumnos values (?,?,?)\",alum)\n",
    "conexion.commit()\n",
    "conexion.close()"
   ]
  },
  {
   "cell_type": "markdown",
   "id": "19386c82",
   "metadata": {},
   "source": [
    "## LECTURA"
   ]
  },
  {
   "cell_type": "code",
   "execution_count": 20,
   "id": "988174c4",
   "metadata": {},
   "outputs": [
    {
     "name": "stdout",
     "output_type": "stream",
     "text": [
      "('Fer', 22, 'satanteama@gmail.com')\n",
      "('Angel', 20, 'odiocomunista@gmail.com')\n",
      "('Isaac', 10, 'isa@gmail.com')\n",
      "('Juan', 30, 'Juan@gmail.com')\n",
      "('Angela', 19, 'angela@gmail.com')\n"
     ]
    }
   ],
   "source": [
    "conexion = sqlite3.connect('ejemplo.db')\n",
    "cursor = conexion.cursor()\n",
    "cursor.execute('select * from alumnos')\n",
    "lalumnos = cursor.fetchall()\n",
    "for alumnos in lalumnos:\n",
    "    print(alumnos)"
   ]
  },
  {
   "cell_type": "code",
   "execution_count": 13,
   "id": "cbb6756e",
   "metadata": {},
   "outputs": [],
   "source": []
  },
  {
   "cell_type": "code",
   "execution_count": null,
   "id": "1cc07ae3",
   "metadata": {},
   "outputs": [],
   "source": []
  },
  {
   "cell_type": "code",
   "execution_count": null,
   "id": "88033820",
   "metadata": {},
   "outputs": [],
   "source": []
  },
  {
   "cell_type": "code",
   "execution_count": null,
   "id": "05d8f018",
   "metadata": {},
   "outputs": [],
   "source": []
  }
 ],
 "metadata": {
  "kernelspec": {
   "display_name": "Python 3 (ipykernel)",
   "language": "python",
   "name": "python3"
  },
  "language_info": {
   "codemirror_mode": {
    "name": "ipython",
    "version": 3
   },
   "file_extension": ".py",
   "mimetype": "text/x-python",
   "name": "python",
   "nbconvert_exporter": "python",
   "pygments_lexer": "ipython3",
   "version": "3.9.12"
  }
 },
 "nbformat": 4,
 "nbformat_minor": 5
}

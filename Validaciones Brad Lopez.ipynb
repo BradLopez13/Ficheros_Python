{
 "cells": [
  {
   "cell_type": "code",
   "execution_count": 1,
   "id": "bcb60284",
   "metadata": {},
   "outputs": [],
   "source": [
    "def validacion_nif_nie(var):\n",
    "        diccionario={0:\"T\",1:\"R\",2:\"W\",3:\"A\",4:\"G\",\n",
    "                                5:\"M\",6:\"Y\",7:\"F\",8:\"P\",9:\"D\",\n",
    "                                10:\"X\",11:\"B\",12:\"N\",13:\"J\",14:\"Z\",\n",
    "                                15:\"S\",16:\"Q\",17:\"V\",18:\"H\",19:\"L\",\n",
    "                                20:\"C\",21:\"K\",22:\"E\"}\n",
    "        var.split()\n",
    "        if(len(var)==9 and not var[8].isdigit()):\n",
    "            if (var[0].isdigit()):\n",
    "                validacion=int(var[0:8])-(int(int(var[0:8])/23)*23)\n",
    "                if(diccionario[validacion]==var[8]):\n",
    "                    return \"DNI Validado\"\n",
    "                else:\n",
    "                    return \"DNI erroneo\"\n",
    "            else:\n",
    "                \n",
    "                if(var[0]==\"X\"):\n",
    "                    num=int(\"0\"+var[1:8])\n",
    "                    validacion=int(num)-(int(int(num)/23)*23)\n",
    "                    if(diccionario[validacion]==var[8]):\n",
    "                        return(\"NIE Validado\")\n",
    "                    else:\n",
    "                        return \"NIE erroneo\"\n",
    "                    \n",
    "                if(var[0]==\"Y\"):\n",
    "                    num=int(\"1\"+var[1:8])\n",
    "                    validacion=int(num)-(int(int(num)/23)*23)\n",
    "                    if(diccionario[validacion]==var[8]):\n",
    "                        return(\"NIE Validado\")\n",
    "                    else:\n",
    "                        return \"NIE erroneo\"\n",
    "                if(var[0]==\"Z\"):\n",
    "                    num=int(\"2\"+var[1:8])\n",
    "                    validacion=int(num)-(int(int(num)/23)*23)\n",
    "                    if(diccionario[validacion]==var[8]):\n",
    "                        return(\"NIE Validado\")\n",
    "                    else:\n",
    "                        return \"NIE erroneo\"\n",
    "        else:\n",
    "            return \"Error introduzca bien los datos\"\n",
    "    "
   ]
  },
  {
   "cell_type": "code",
   "execution_count": 3,
   "id": "ef88b3ed",
   "metadata": {},
   "outputs": [
    {
     "data": {
      "text/plain": [
       "'DNI Validado'"
      ]
     },
     "execution_count": 3,
     "metadata": {},
     "output_type": "execute_result"
    }
   ],
   "source": [
    "validacion_nif_nie(\"50775702M\")"
   ]
  },
  {
   "cell_type": "code",
   "execution_count": 4,
   "id": "c4b76fe6",
   "metadata": {},
   "outputs": [],
   "source": [
    "def validacion_NAF(var):\n",
    "    var.split()\n",
    "    if(len(var)==12 and var.isdigit()):\n",
    "        diccionario={\"A\":(int(var[0:2])),\"B\":(int(var[2:10])),\"C\":(int(var[10:12]))}\n",
    "        if(diccionario[\"B\"]<10000000):\n",
    "            codigo=(int(diccionario[\"B\"]+(diccionario[\"A\"]*10000000))%97)\n",
    "            if(codigo==diccionario[\"C\"]):\n",
    "                return (\"NAF validado\")\n",
    "            else:\n",
    "                return (\"NAF incorrecto\")\n",
    "        else:\n",
    "            codigo=(int(var[0:10])%97)\n",
    "            if(codigo==diccionario[\"C\"]):\n",
    "                return (\"NAF validado\")\n",
    "            else:\n",
    "                return (\"NAF incorrecto\")\n",
    "\n",
    "    else:\n",
    "        return \"Error introduzca bien los datos\""
   ]
  },
  {
   "cell_type": "code",
   "execution_count": 7,
   "id": "207f923c",
   "metadata": {},
   "outputs": [
    {
     "data": {
      "text/plain": [
       "'NAF validado'"
      ]
     },
     "execution_count": 7,
     "metadata": {},
     "output_type": "execute_result"
    }
   ],
   "source": [
    "validacion_NAF(\"281234567840\")"
   ]
  },
  {
   "cell_type": "code",
   "execution_count": 3,
   "id": "2d18d2d4",
   "metadata": {},
   "outputs": [],
   "source": [
    "def validacion_iban(ent,suc,dig,cod):\n",
    "    ent.split()\n",
    "    suc.split()\n",
    "    dig.split()\n",
    "    cod.split()\n",
    "    \n",
    "    primDig=((int((ent[0]*4)+(ent[1]*8)+(ent[2]*5)+(ent[3]*10)+(suc[0]*9)+\n",
    "                  (suc[1]*7)+(suc[2]*3)+(suc[3]*6))%11))\n",
    "    dig1=11-primDig\n",
    "    segDig=((int((cod[0]*1)+(cod[1]*2)+(cod[2]*4)+(cod[3]*8)+(cod[4]*5)+\n",
    "                 (cod[5]*10)+(cod[6]*9)+(cod[7]*7)+(cod[8]*3)+(cod[9]*6))%11))\n",
    "    validar=(ent+suc+dig+cod+\"142800\")\n",
    "    val=(98-(int(validar)%97))\n",
    "    print (\"Iban final: \"+\"ES\"+\"{}\".format(val)+\" \"+ent+\" \"+suc+\" \"+dig+cod[0:2]+\" \"+cod[2:6]+\" \"+cod[6:10])"
   ]
  },
  {
   "cell_type": "code",
   "execution_count": 4,
   "id": "ca84849f",
   "metadata": {},
   "outputs": [
    {
     "name": "stdout",
     "output_type": "stream",
     "text": [
      "Iban final: ES31 2100 4819 0113 0068 2474\n"
     ]
    }
   ],
   "source": [
    "validacion_iban(\"2100\",\"4819\",\"01\",\"1300682474\")"
   ]
  }
 ],
 "metadata": {
  "interpreter": {
   "hash": "26de051ba29f2982a8de78e945f0abaf191376122a1563185a90213a26c5da77"
  },
  "kernelspec": {
   "display_name": "Python 3.10.4 64-bit",
   "language": "python",
   "name": "python3"
  },
  "language_info": {
   "codemirror_mode": {
    "name": "ipython",
    "version": 3
   },
   "file_extension": ".py",
   "mimetype": "text/x-python",
   "name": "python",
   "nbconvert_exporter": "python",
   "pygments_lexer": "ipython3",
   "version": "3.10.4"
  }
 },
 "nbformat": 4,
 "nbformat_minor": 5
}
